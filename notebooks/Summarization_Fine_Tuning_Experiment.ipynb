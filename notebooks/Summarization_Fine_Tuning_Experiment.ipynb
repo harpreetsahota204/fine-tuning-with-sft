{
  "cells": [
    {
      "cell_type": "code",
      "execution_count": null,
      "metadata": {
        "id": "wXU2E2C3D3PB"
      },
      "outputs": [],
      "source": [
        "import os\n",
        "import getpass\n",
        "os.environ['LC_ALL'] = 'en_US.UTF-8'\n",
        "os.environ['LANG'] = 'en_US.UTF-8'\n",
        "os.environ['LC_CTYPE'] = 'en_US.UTF-8'"
      ]
    },
    {
      "cell_type": "code",
      "execution_count": null,
      "metadata": {
        "id": "gw_i2MZuc_3q"
      },
      "outputs": [],
      "source": [
        "from huggingface_hub import notebook_login\n",
        "notebook_login()"
      ]
    },
    {
      "cell_type": "code",
      "execution_count": null,
      "metadata": {
        "id": "5xUfElnckJ7A"
      },
      "outputs": [],
      "source": [
        "!pip install -qq git+https://github.com/huggingface/peft.git\n",
        "!pip install -qq accelerate\n",
        "!pip install -qq datasets\n",
        "!pip install -qq trl\n",
        "!pip install -qq transformers\n",
        "!pip install -qq bitsandbytes\n",
        "!pip install -qq safetensors\n",
        "# note: flash attention installation can take a long time\n",
        "!pip install -qq flash-attn --no-build-isolation"
      ]
    },
    {
      "cell_type": "code",
      "execution_count": null,
      "metadata": {
        "id": "md_-KWzudBIV"
      },
      "outputs": [],
      "source": [
        "!git clone https://github.com/harpreetsahota204/fine-tuning-with-sft.git"
      ]
    },
    {
      "cell_type": "code",
      "execution_count": null,
      "metadata": {
        "id": "4ZTjEgv7kLdT"
      },
      "outputs": [],
      "source": [
        "%cd /content/fine-tuning-with-sft/src/helpers\n",
        "\n",
        "from helpers import create_directory, select_random_rows"
      ]
    },
    {
      "cell_type": "code",
      "source": [
        "class config:\n",
        "\n",
        "    FINE_TUNING_DATASET_LOCATION = \"ccdv/govreport-summarization\"\n",
        "    DATASET_LOCATION = \"/content/fine_tuning_dataset\"\n",
        "\n",
        "    HF_USERNAME = \"harpreetsahota\"\n",
        "\n",
        "    DECI_BASE_MODEL = \"Deci/DeciLM-7b-redteam4-lm_eval\"\n",
        "    DECI_TUNED_REPO_NAME = \"decilm-v3-summarization-tuned-50-steps-sos-tokens\"\n",
        "    DECI_OUTPUT_DIR = \"../../../decilm-fine-tuned\"\n",
        "\n",
        "    COMPETITOR_OUTPUT_DIR = \"../../../competitor-fine-tuned\"\n",
        "    COMPETITOR_BASE_MODEL = \"mistralai/Mistral-7B-v0.1\"\n",
        "    COMPETITOR_TUNED_REPO_NAME = \"mistral-summarization-tuned-50-steps-sos-tokens\"\n",
        "\n",
        "    MAX_STEPS = 50"
      ],
      "metadata": {
        "id": "PF7yzgwWBMQI"
      },
      "execution_count": null,
      "outputs": []
    },
    {
      "cell_type": "code",
      "execution_count": null,
      "metadata": {
        "id": "pqD6khD7n1EI"
      },
      "outputs": [],
      "source": [
        "create_directory(dir_name = config.DECI_OUTPUT_DIR)\n",
        "\n",
        "create_directory(dir_name = config.COMPETITOR_OUTPUT_DIR)"
      ]
    },
    {
      "cell_type": "code",
      "execution_count": null,
      "metadata": {
        "id": "X_eCa6UNsX1s"
      },
      "outputs": [],
      "source": [
        "from datasets import load_dataset\n",
        "\n",
        "_train = load_dataset(config.FINE_TUNING_DATASET_LOCATION, split='train')\n",
        "\n",
        "_test = load_dataset(config.FINE_TUNING_DATASET_LOCATION, split='test')\n",
        "\n",
        "_train = select_random_rows(_train.shuffle(seed=42), 5000)"
      ]
    },
    {
      "cell_type": "code",
      "execution_count": null,
      "metadata": {
        "id": "8SYZGNm5xgQa"
      },
      "outputs": [],
      "source": [
        "from typing import Dict, Optional\n",
        "\n",
        "def format_row(row: Dict[str, str]) -> str:\n",
        "    \"\"\"\n",
        "    This function takes a dictionary with keys 'source', 'rationale', and 'target',\n",
        "    and optionally a prefix string and examples string. It formats them into a single string\n",
        "    with the provided structure.\n",
        "\n",
        "    Args:\n",
        "    :param row: A dictionary representing a row in the dataset with keys 'source', 'rationale', and 'target'.\n",
        "    :param prefix: An optional string to include before the examples and formatted row.\n",
        "    :param examples: An optional string representing concatenated examples.\n",
        "    :return: A formatted string.\n",
        "    \"\"\"\n",
        "    formatted_string = \"\"\n",
        "    formatted_string += \"<s> Below is Full text paired with it's Summary. You task is to summarize the full text. \\n\\n\"\n",
        "    formatted_string += f\"### Full text: {row['report']} \\n\"\n",
        "    formatted_string += f\" ### Summary: {row['summary']} \\n </s>\"\n",
        "\n",
        "    return formatted_string.strip()\n",
        "\n",
        "def add_text_column(example):\n",
        "    example[\"text\"] = format_row(example)\n",
        "    return example"
      ]
    },
    {
      "cell_type": "code",
      "execution_count": null,
      "metadata": {
        "id": "IUc2xHr8xGqQ"
      },
      "outputs": [],
      "source": [
        "formatted_train = _train.map(add_text_column)\n",
        "\n",
        "_split = formatted_train.train_test_split(test_size=0.2, seed=42)\n",
        "\n",
        "_split.save_to_disk(config.DATASET_LOCATION)"
      ]
    },
    {
      "cell_type": "code",
      "execution_count": null,
      "metadata": {
        "id": "Z_5ADGLqz-32"
      },
      "outputs": [],
      "source": [
        "%cd /content/fine-tuning-with-sft/src\n",
        "!python train_model.py \\\n",
        "    --model_id {config.DECI_BASE_MODEL} \\\n",
        "    --dataset  {config.DATASET_LOCATION} \\\n",
        "    --output_dir {config.DECI_OUTPUT_DIR} \\\n",
        "    --hf_username {config.HF_USERNAME} \\\n",
        "    --hf_repo_name {config.DECI_TUNED_REPO_NAME} \\\n",
        "    --max_steps {config.MAX_STEPS}"
      ]
    },
    {
      "cell_type": "code",
      "execution_count": null,
      "metadata": {
        "id": "Is4KDCqA8xLj"
      },
      "outputs": [],
      "source": [
        "%cd /content/fine-tuning-with-sft/src\n",
        "!python train_model.py \\\n",
        "    --model_id {config.COMPETITOR_BASE_MODEL} \\\n",
        "    --dataset {config.DATASET_LOCATION} \\\n",
        "    --output_dir {config.COMPETITOR_OUTPUT_DIR} \\\n",
        "    --hf_username {config.HF_USERNAME} \\\n",
        "    --hf_repo_name {config.COMPETITOR_TUNED_REPO_NAME} \\\n",
        "    --max_steps {config.MAX_STEPS}"
      ]
    },
    {
      "cell_type": "code",
      "source": [],
      "metadata": {
        "id": "ngwzJ7-Evf4M"
      },
      "execution_count": null,
      "outputs": []
    }
  ],
  "metadata": {
    "accelerator": "GPU",
    "colab": {
      "machine_shape": "hm",
      "provenance": [],
      "gpuType": "A100"
    },
    "kernelspec": {
      "display_name": "Python 3",
      "name": "python3"
    },
    "language_info": {
      "name": "python"
    }
  },
  "nbformat": 4,
  "nbformat_minor": 0
}